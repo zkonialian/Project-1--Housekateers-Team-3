


# Dependencies and Setup
import pandas as pd
import numpy as np
import matplotlib.pyplot as plt
import matplotlib.ticker as ticker


# Load the CSV file created in Part 1 into a Pandas DataFrame
housing_values_df = pd.read_csv("County_zhvi_uc_sfrcondo_tier_0.33_0.67_sm_sa_month.csv")

# Display sample data
housing_values_df.head(3)


# filter for columns 2012 - 2023
# housing_values_df.loc[:, ("RegionID":"MunicipalCodeFIPS", '1/31/2012':'6/30/2024')]
# housing_values_2012_2023_df = housing_values_df.iloc[:, np.r_[0:9, 153:303]]
# housing_values_2012_2023_df = housing_values_df.iloc[:, np.r_[0:3, 153:303]]

# create a variable for the NYC 5 counties:
urban = [581,
1347,
2452,
401,
2511]


# create DF for urban cities of interest
housing_values_urban_df = housing_values_df.loc[housing_values_df['RegionID'].isin(urban)] 
urban_housing_values_2012_2023_df = housing_values_urban_df.iloc[:, 153:297]
urban_housing_values_2012_2023_df
# housing_values_2012_2023_df

# create an average value for all 5 counties:
# housing_values_urban_mean = housing_values_2012_2023_df.mean(axis=0)


# housing_values_suburban_df = housing_values_2012_2023_df.loc[housing_values_2012_2023_df['RegionID'].isin(urban)] 




# create a variable for the surrounding NYC counties:
surrounding =[1252,
3148,
874,
2802,
504,
1106,
771,
2515,
505,]

# create DF for urban cities of interest
housing_values_surrounding_df = housing_values_df.loc[housing_values_df['RegionID'].isin(surrounding)] 
surrounding_housing_values_2012_2023_df = housing_values_surrounding_df.iloc[:, 153:297]
surrounding_housing_values_2012_2023_df
# housing_values_2012_2023_df



mean_surrounding_housing_values = surrounding_housing_values_2012_2023_df.mean()


mean_urban_housing_values = urban_housing_values_2012_2023_df.mean()


mean_housing_values_df = pd.DataFrame({'Average NYC Boroughs':mean_urban_housing_values,
                                       'Average Surrounding Counties':mean_surrounding_housing_values})
mean_housing_values_df.index = pd.to_datetime(mean_housing_values_df.index)

mean_housing_values_df


mean_housing_values_df['Year'] = mean_housing_values_df.index.year
mean_housing_values_df


agg_mean_housing_values_df = mean_housing_values_df.groupby('Year')[['Average NYC Boroughs', "Average Surrounding Counties"]].mean()



x1 = agg_mean_housing_values_df.index
y1 = agg_mean_housing_values_df['Average NYC Boroughs']
# line 2 points
x2 = agg_mean_housing_values_df.index
y2 = agg_mean_housing_values_df["Average Surrounding Counties"]
# Set the x axis label of the current axis.
plt.xlabel('Years')
# Set the y axis label of the current axis.
plt.ylabel('Average Housing Values ($)')
# Set a title 
plt.title('Housing Values over Time ')
# Display the figure.
plt.plot(x1,y1, color='blue', linewidth = 3,  label = 'NYC Boroughs')
plt.plot(x2,y2, color='red', linewidth = 3,  label = 'Surrounding Areas')
# show a legend on the plot
plt.legend()

def format_func(value, pos):
    return '{:,.0f}'.format(round(value, -3))

# Get the current axis
ax = plt.gca()

# Set the y-axis tick labels to display currency values
ax.yaxis.set_major_formatter(ticker.FuncFormatter(format_func))
plt.show()



